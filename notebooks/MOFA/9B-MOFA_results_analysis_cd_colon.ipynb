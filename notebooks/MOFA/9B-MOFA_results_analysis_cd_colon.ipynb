{
 "cells": [
  {
   "cell_type": "markdown",
   "metadata": {},
   "source": [
    "# MOFA results analysis in the colon for CD patients"
   ]
  },
  {
   "cell_type": "markdown",
   "metadata": {},
   "source": [
    "### Imports"
   ]
  },
  {
   "cell_type": "code",
   "execution_count": null,
   "metadata": {},
   "outputs": [],
   "source": [
    "import copy\n",
    "import os\n",
    "import random\n",
    "import shutil\n",
    "\n",
    "import matplotlib.pyplot as plt\n",
    "from matplotlib_venn import venn2\n",
    "import mofax as mfx\n",
    "import pandas as pd\n",
    "import seaborn as sns\n",
    "from sklearn.preprocessing import StandardScaler\n",
    "from tqdm import tqdm\n",
    "from scipy.stats import chi2_contingency, f_oneway\n",
    "from statsmodels.stats.multitest import multipletests\n",
    "from sparc_multiomics.clustering import hierarchical_clustering\n",
    "from sparc_multiomics.constants import (\n",
    "    CCF_METADATA_CATEGORICAL,\n",
    "    CCF_METADATA_CONTINUOUS,\n",
    "    RANDOM_SEED,\n",
    ")\n",
    "from sparc_multiomics.MOFA_toolset import (\n",
    "    grab_top_features_by_MOFA_weights,\n",
    "    readable_features_naming,\n",
    "    reverse_features_naming,\n",
    "    select_top_factors,\n",
    ")\n",
    "from sparc_multiomics.pathway_analysis import (\n",
    "    pathway_analysis,\n",
    ")\n",
    "from sparc_multiomics.plotting import (\n",
    "    cleaner_barplot,\n",
    "    custom_clustermap,\n",
    "    custom_boxplot,\n",
    "    two_groups_overlap_heatmap,\n",
    ")\n",
    "\n",
    "random.seed(RANDOM_SEED)\n",
    "project_name = \"cd_colon\""
   ]
  },
  {
   "cell_type": "markdown",
   "metadata": {},
   "source": [
    "### Load the MOFA model"
   ]
  },
  {
   "cell_type": "markdown",
   "metadata": {},
   "source": [
    "Loading the MOFA model, the relative weights of each feature towards the model, perform short preparations changes and merge with the metadata"
   ]
  },
  {
   "cell_type": "code",
   "execution_count": null,
   "metadata": {},
   "outputs": [],
   "source": [
    "mofa_model = mfx.mofa_model(f\"mofa_inflammation_{project_name}.h5\")\n",
    "weights_df = mofa_model.get_weights(df=True)\n",
    "weights_df[\"feature\"] = weights_df.index\n",
    "tagged_weights_df = weights_df.merge(\n",
    "    mofa_model.get_features(), on=\"feature\", how=\"left\"\n",
    ")\n",
    "tagged_weights_df.set_index(\"feature\", inplace=True)\n",
    "metadata = pd.read_parquet(\"collapsed_metadata.parquet\")\n",
    "metadata = metadata.rename(columns={\"macroscopic_appearance\": \"Macro. appear.\"})\n",
    "factors_df = mofa_model.get_factors(df=True)\n",
    "raw_factors_names = [col for col in factors_df if col.startswith(\"Factor\")]\n",
    "factors = [\n",
    "    f\"Factor {current_factor.replace('Factor','')}\"\n",
    "    for current_factor in raw_factors_names\n",
    "]\n",
    "renaming_factors_dict = dict(zip(raw_factors_names, factors))\n",
    "tagged_weights_df = tagged_weights_df.rename(columns=renaming_factors_dict)\n",
    "factors_df = factors_df.rename(columns=renaming_factors_dict)\n",
    "\n",
    "number_of_factors = len(factors_df.columns)\n",
    "factors_columns = list(factors_df.columns)\n",
    "factors_r2 = mofa_model.get_r2()\n",
    "factors_r2[\"Factor\"] = factors_r2[\"Factor\"].replace(renaming_factors_dict)"
   ]
  },
  {
   "cell_type": "markdown",
   "metadata": {},
   "source": [
    "Plot the R2 of each factor towards the groups."
   ]
  },
  {
   "cell_type": "code",
   "execution_count": null,
   "metadata": {},
   "outputs": [],
   "source": [
    "mfx.plot_r2(\n",
    "    mofa_model,\n",
    "    factors=list(range(number_of_factors)),\n",
    "    cmap=\"Blues\",\n",
    "    vmax=1,\n",
    "    vmin=0.0,\n",
    ")"
   ]
  },
  {
   "cell_type": "markdown",
   "metadata": {},
   "source": [
    "Identify the top factors, per their R2 measured contribution."
   ]
  },
  {
   "cell_type": "code",
   "execution_count": null,
   "metadata": {},
   "outputs": [],
   "source": [
    "top_factors, factor_views = select_top_factors(\n",
    "    factors_r2,\n",
    "    verbose=True,\n",
    "    r2_thresholds={\"genomics\": 0.1, \"proteomics\": 0.25, \"transcriptomics\": 0.25},\n",
    "    return_mode=\"overlap\",\n",
    "    top_per_omics=3,\n",
    ")"
   ]
  },
  {
   "cell_type": "markdown",
   "metadata": {},
   "source": [
    "### Cluster the samples"
   ]
  },
  {
   "cell_type": "markdown",
   "metadata": {},
   "source": [
    "Cluster the samples hierarchically, to simplify posterior cluster aggregation."
   ]
  },
  {
   "cell_type": "code",
   "execution_count": null,
   "metadata": {},
   "outputs": [],
   "source": [
    "cluster_number = 3\n",
    "clusters = hierarchical_clustering(\n",
    "    factors_df[factors], number_of_clusters=cluster_number, show_plot=True\n",
    ")"
   ]
  },
  {
   "cell_type": "markdown",
   "metadata": {},
   "source": [
    "Assign the clusters to the samples and merge with the metadata."
   ]
  },
  {
   "cell_type": "code",
   "execution_count": null,
   "metadata": {},
   "outputs": [],
   "source": [
    "factors_df[\"patient_id\"] = [int(x.split(\"-\")[0][1:]) for x in factors_df.index]\n",
    "factors_df[\"interval_id\"] = [\"_\".join(x.split(\"-\")[1:]) for x in factors_df.index]\n",
    "\n",
    "metadata[\"patient_id\"] = metadata[\"patient_id\"].astype(int)\n",
    "factors_df[\"patient_id\"] = factors_df[\"patient_id\"].astype(int)\n",
    "factors_df[\"cluster\"] = clusters\n",
    "factors_with_metadata = factors_df.merge(\n",
    "    metadata,\n",
    "    on=[\"patient_id\", \"interval_id\"],\n",
    "    how=\"left\",\n",
    ")"
   ]
  },
  {
   "cell_type": "markdown",
   "metadata": {},
   "source": [
    "Visualize the clusters and identify which factors relate to variables of interest."
   ]
  },
  {
   "cell_type": "code",
   "execution_count": null,
   "metadata": {},
   "outputs": [],
   "source": [
    "custom_clustermap(\n",
    "    factors_with_metadata,\n",
    "    categories_to_display=[\n",
    "        \"Macro. appear.\",\n",
    "        \"cluster\",\n",
    "        \"batch\",\n",
    "    ],\n",
    "    columns_to_cluster=factors_columns,\n",
    "    save_path=f\"figures/{project_name}_clustermap_all_factors.png\",\n",
    "    figsize=(8, 10),\n",
    "    factor_to_center=\"Factor 3\",\n",
    "    center_on_0=True,\n",
    ")"
   ]
  },
  {
   "cell_type": "markdown",
   "metadata": {},
   "source": [
    "Zoom in on Factor 3, which is relevant towards macroscopic appearance."
   ]
  },
  {
   "cell_type": "code",
   "execution_count": null,
   "metadata": {},
   "outputs": [],
   "source": [
    "custom_clustermap(\n",
    "    factors_with_metadata,\n",
    "    categories_to_display=[\n",
    "        \"Macro. appear.\",\n",
    "    ],\n",
    "    columns_to_cluster=top_factors,\n",
    "    save_path=f\"figures/{project_name}_clustermap_factor_3.png\",\n",
    "    figsize=(8, 10),\n",
    "    factor_to_center=\"Factor 3\",\n",
    "    center_on_0=True,\n",
    ")"
   ]
  },
  {
   "cell_type": "markdown",
   "metadata": {},
   "source": [
    "Display the macroscopic appearance per cluster identified."
   ]
  },
  {
   "cell_type": "code",
   "execution_count": null,
   "metadata": {},
   "outputs": [],
   "source": [
    "custom_boxplot(\n",
    "    factors_with_metadata,\n",
    "    x_variable=\"cluster\",\n",
    "    y_variable=\"Factor 3\",\n",
    "    grouping_variable=\"Macro. appear.\",\n",
    "    add_stats=True,\n",
    "    pairs_to_annotate=[\n",
    "        ((1, \"inflamed\"), (1, \"normal\")),\n",
    "        ((2, \"inflamed\"), (2, \"normal\")),\n",
    "        ((3, \"inflamed\"), (3, \"normal\")),\n",
    "    ],\n",
    "    legend_title=\"Macroscopic appearance\",\n",
    "    save_tag=\"original_clusters\",\n",
    ")"
   ]
  },
  {
   "cell_type": "markdown",
   "metadata": {},
   "source": [
    "Bundle clusters 1 and 3 into A and cluster 2 as B."
   ]
  },
  {
   "cell_type": "code",
   "execution_count": null,
   "metadata": {},
   "outputs": [],
   "source": [
    "remap_cluster_dict = {1: \"A\", 2: \"B\", 3: \"A\"}\n",
    "factors_with_metadata[\"cluster\"] = factors_with_metadata[\"cluster\"].map(\n",
    "    remap_cluster_dict\n",
    ")"
   ]
  },
  {
   "cell_type": "markdown",
   "metadata": {},
   "source": [
    "Display Factor 4 against macroscopic appearance."
   ]
  },
  {
   "cell_type": "code",
   "execution_count": null,
   "metadata": {},
   "outputs": [],
   "source": [
    "custom_boxplot(\n",
    "    factors_with_metadata,\n",
    "    x_variable=\"cluster\",\n",
    "    y_variable=\"Factor 3\",\n",
    "    grouping_variable=\"Macro. appear.\",\n",
    "    save_tag=\"merged_clusters\",\n",
    "    add_stats=True,\n",
    "    pairs_to_annotate=[\n",
    "        ((\"A\", \"inflamed\"), (\"A\", \"normal\")),\n",
    "        ((\"B\", \"inflamed\"), (\"B\", \"normal\")),\n",
    "        ((\"A\", \"normal\"), (\"B\", \"normal\")),\n",
    "        ((\"A\", \"inflamed\"), (\"B\", \"normal\")),\n",
    "        ((\"B\", \"inflamed\"), (\"A\", \"normal\")),\n",
    "    ],\n",
    "    circle_size=3,\n",
    "    fig_size=(6, 4),\n",
    "    legend_title=\"Macroscopic appearance\",\n",
    "    legend_spacing=-0.34,\n",
    ")"
   ]
  },
  {
   "cell_type": "markdown",
   "metadata": {},
   "source": [
    "### Loop back to the original data"
   ]
  },
  {
   "cell_type": "markdown",
   "metadata": {},
   "source": [
    "In an effort to locate biomarkers able to characterize the samples, we import them once again and perform statistical testing to see their significance against the clusters attained."
   ]
  },
  {
   "cell_type": "code",
   "execution_count": null,
   "metadata": {},
   "outputs": [],
   "source": [
    "factors_with_metadata.to_parquet(f\"MOFA_results_{project_name}.parquet\")\n",
    "transcriptomics = pd.read_parquet(\"transcriptomics_batch_corrected.parquet\")\n",
    "proteomics = pd.read_parquet(\"proteomics_processed.parquet\")\n",
    "genomics = pd.read_parquet(\"genomics_annotated.parquet\")\n",
    "\n",
    "transcriptomics_columns = list(\n",
    "    transcriptomics.drop(columns=[\"original_batch\", \"sample_id\"]).columns\n",
    ")\n",
    "transcriptomics_scaler = StandardScaler()\n",
    "scaled_transcriptomics = transcriptomics_scaler.fit_transform(\n",
    "    transcriptomics.drop(columns=[\"original_batch\", \"sample_id\"])\n",
    ")\n",
    "scaled_transcriptomics = pd.DataFrame(\n",
    "    scaled_transcriptomics, columns=transcriptomics_columns\n",
    ")\n",
    "\n",
    "processed_transcriptomics = scaled_transcriptomics[transcriptomics_columns]\n",
    "transcriptomics_columns = list(processed_transcriptomics.columns)\n",
    "processed_transcriptomics[[\"original_batch\", \"sample_id\"]] = transcriptomics[\n",
    "    [\"original_batch\", \"sample_id\"]\n",
    "]\n",
    "\n",
    "proteomics_columns = list(proteomics.drop(columns=[\"sample_id\"]).columns)\n",
    "proteomics_scaler = StandardScaler()\n",
    "scaled_proteomics = proteomics_scaler.fit_transform(\n",
    "    proteomics.drop(columns=[\"sample_id\"])\n",
    ")\n",
    "scaled_proteomics = pd.DataFrame(scaled_proteomics, columns=proteomics_columns)\n",
    "scaled_proteomics[\"sample_id\"] = proteomics[\"sample_id\"]\n",
    "\n",
    "genomics_columns = list(genomics.drop(columns=[\"sample_id\"]).columns)\n",
    "\n",
    "MOFA_proteomics = pd.merge(\n",
    "    factors_with_metadata, scaled_proteomics, left_on=\"proteomics\", right_on=\"sample_id\"\n",
    ").drop(columns=[\"sample_id\"])\n",
    "MOFA_proteomics_transcriptomics = pd.merge(\n",
    "    MOFA_proteomics,\n",
    "    processed_transcriptomics,\n",
    "    left_on=\"transcriptomics\",\n",
    "    right_on=\"sample_id\",\n",
    ").drop(columns=[\"sample_id\"])\n",
    "MOFA_proteomics_transcriptomics_genomics = pd.merge(\n",
    "    MOFA_proteomics_transcriptomics,\n",
    "    genomics,\n",
    "    left_on=\"genomics_array\",\n",
    "    right_on=\"sample_id\",\n",
    ").drop(columns=[\"sample_id\"])"
   ]
  },
  {
   "cell_type": "markdown",
   "metadata": {},
   "source": [
    "Pick 150 top features for each of the omics types."
   ]
  },
  {
   "cell_type": "code",
   "execution_count": null,
   "metadata": {},
   "outputs": [],
   "source": [
    "top_sizes = {\n",
    "    \"genomics\": 150,\n",
    "    \"proteomics\": 150,\n",
    "    \"transcriptomics\": 150,\n",
    "}"
   ]
  },
  {
   "cell_type": "markdown",
   "metadata": {},
   "source": [
    "Get the top features columns as well as their corresponding gene/protein name. This will be used to cross information from the three omics types."
   ]
  },
  {
   "cell_type": "code",
   "execution_count": null,
   "metadata": {},
   "outputs": [],
   "source": [
    "top_features_columns, top_features = {}, {}\n",
    "for usable_omics in [\"genomics\", \"proteomics\", \"transcriptomics\"]:\n",
    "    top_features_columns[usable_omics] = reverse_features_naming(\n",
    "        grab_top_features_by_MOFA_weights(\n",
    "            tagged_weights_df,\n",
    "            top_factors,\n",
    "            current_view=usable_omics,\n",
    "            top_n=top_sizes[usable_omics],\n",
    "        ),\n",
    "        split_parameters={\n",
    "            \"split_by\": \"-\",\n",
    "            \"split_when\": [\n",
    "                \"Inflammation\",\n",
    "                \"Cardiometabolic\",\n",
    "                \"Oncology\",\n",
    "                \"Neurology\",\n",
    "                \"chr\",\n",
    "            ],\n",
    "        },\n",
    "    )\n",
    "    top_features[usable_omics] = readable_features_naming(\n",
    "        top_features_columns[usable_omics],\n",
    "        split_parameters={\n",
    "            \"split_by\": \"-\",\n",
    "            \"split_when\": [\n",
    "                \"Inflammation\",\n",
    "                \"Cardiometabolic\",\n",
    "                \"Oncology\",\n",
    "                \"Neurology\",\n",
    "                \"chr\",\n",
    "            ],\n",
    "        },\n",
    "    )"
   ]
  },
  {
   "cell_type": "markdown",
   "metadata": {},
   "source": [
    "Count the genes that appear the most on the top features, from the absolute weights towards factor 3."
   ]
  },
  {
   "cell_type": "code",
   "execution_count": null,
   "metadata": {},
   "outputs": [],
   "source": [
    "genomics_counts_dictionary = {}\n",
    "for current_gene in [x.split(\"-\")[0] for x in top_features[\"genomics\"]]:\n",
    "    if current_gene == \"\":\n",
    "        continue\n",
    "    if current_gene in genomics_counts_dictionary:\n",
    "        genomics_counts_dictionary[current_gene] += 1\n",
    "    else:\n",
    "        genomics_counts_dictionary[current_gene] = 1\n",
    "genomics_counts_df = pd.DataFrame(\n",
    "    genomics_counts_dictionary.items(), columns=[\"gene\", \"count\"]\n",
    ")\n",
    "genomics_counts_df = genomics_counts_df.sort_values(\"count\", ascending=False)\n",
    "genomics_counts_df.to_csv(f\"results/{project_name}_genomics_counts.csv\", index=False)\n",
    "cleaner_barplot(\n",
    "    genomics_counts_df,\n",
    "    input_x=\"count\",\n",
    "    input_y=\"gene\",\n",
    "    save_info=f\"{project_name}_genomics_counts\",\n",
    "    title=\"Genomics top features counts\",\n",
    ")"
   ]
  },
  {
   "cell_type": "markdown",
   "metadata": {},
   "source": [
    "Enrich each of the omics types with features from the remaining omics types, when possible."
   ]
  },
  {
   "cell_type": "code",
   "execution_count": null,
   "metadata": {},
   "outputs": [],
   "source": [
    "intersecting_features = {\n",
    "    \"genomics\": top_features_columns[\"genomics\"],\n",
    "    \"proteomics\": top_features_columns[\"proteomics\"],\n",
    "    \"transcriptomics\": top_features_columns[\"transcriptomics\"],\n",
    "}\n",
    "full_features_lists = {\n",
    "    \"genomics\": genomics_columns,\n",
    "    \"proteomics\": proteomics_columns,\n",
    "    \"transcriptomics\": transcriptomics_columns,\n",
    "}\n",
    "omics_list = [\"genomics\", \"proteomics\", \"transcriptomics\"]\n",
    "for usable_omic in omics_list:\n",
    "    for current_feature in top_features[usable_omic]:\n",
    "        if current_feature == \"\":\n",
    "            continue\n",
    "        nested_omics = omics_list.copy()\n",
    "        nested_omics.remove(usable_omic)\n",
    "        for nested_omic in nested_omics:\n",
    "            for nested_feature in full_features_lists[nested_omic]:\n",
    "                if current_feature in nested_feature:\n",
    "                    intersecting_features[nested_omic].append(nested_feature)\n",
    "\n",
    "intersecting_features = {\n",
    "    key: list(set(value)) for key, value in intersecting_features.items()\n",
    "}\n",
    "proteomics_usable_columns = [\n",
    "    x\n",
    "    for x in intersecting_features[\"proteomics\"]\n",
    "    if x in MOFA_proteomics_transcriptomics_genomics.columns\n",
    "]\n",
    "proteomics_corrected_columns = [\n",
    "    x.replace(\"-\", \"_\")\n",
    "    for x in intersecting_features[\"proteomics\"]\n",
    "    if x not in MOFA_proteomics_transcriptomics_genomics.columns\n",
    "]\n",
    "intersecting_features[\"proteomics\"] = (\n",
    "    proteomics_usable_columns + proteomics_corrected_columns\n",
    ")"
   ]
  },
  {
   "cell_type": "markdown",
   "metadata": {},
   "source": [
    "Test whether the features are statistically significant regarding the cluster and macroscopic appearance as a group."
   ]
  },
  {
   "cell_type": "code",
   "execution_count": null,
   "metadata": {},
   "outputs": [],
   "source": [
    "grouping_variable = \"Macro. appear.\"\n",
    "target_variable = \"cluster\"\n",
    "groups_of_interest = [\"Cluster A-inflamed\", \"Cluster B-inflamed\"]\n",
    "combination_groupings = f\"{target_variable}_{grouping_variable}\"\n",
    "custom_palette = sns.color_palette([\"#16EB96\", \"#F4B183\"])\n",
    "types_columns = {\n",
    "    \"genomics\": intersecting_features[\"genomics\"],\n",
    "    \"proteomics\": intersecting_features[\"proteomics\"],\n",
    "    \"transcriptomics\": intersecting_features[\"transcriptomics\"],\n",
    "    \"metadata_continuous\": CCF_METADATA_CONTINUOUS,\n",
    "    \"metadata_categorical\": CCF_METADATA_CATEGORICAL,\n",
    "}\n",
    "target_group = \"severe\"\n",
    "variables_types = {\n",
    "    \"genomics\": \"categorical\",\n",
    "    \"proteomics\": \"continuous\",\n",
    "    \"transcriptomics\": \"continuous\",\n",
    "    \"metadata_continuous\": \"continuous\",\n",
    "    \"metadata_categorical\": \"categorical\",\n",
    "}\n",
    "\n",
    "\n",
    "type_columns_combinations = {}\n",
    "for current_type in types_columns.keys():\n",
    "    if current_type not in type_columns_combinations.keys():\n",
    "        type_columns_combinations[current_type] = []\n",
    "    for current_column in types_columns[current_type]:\n",
    "        type_columns_combinations[current_type].append(current_column)\n",
    "valid_features = {}\n",
    "for current_type in tqdm(type_columns_combinations):\n",
    "    variable_type = variables_types[current_type]\n",
    "    groups_list = []\n",
    "    for current_group in MOFA_proteomics_transcriptomics_genomics[\n",
    "        grouping_variable\n",
    "    ].unique():\n",
    "        current_subset = MOFA_proteomics_transcriptomics_genomics[\n",
    "            MOFA_proteomics_transcriptomics_genomics[grouping_variable] == current_group\n",
    "        ]\n",
    "        if current_subset.shape[0] < 2:\n",
    "            continue\n",
    "        groups_list.append(current_subset[type_columns_combinations[current_type]])\n",
    "\n",
    "    if variable_type == \"categorical\":\n",
    "        p_values = []\n",
    "        for target_column in tqdm(type_columns_combinations[current_type]):\n",
    "            try:\n",
    "                contingency_table = pd.crosstab(\n",
    "                    MOFA_proteomics_transcriptomics_genomics[grouping_variable].astype(\n",
    "                        \"category\"\n",
    "                    ),\n",
    "                    MOFA_proteomics_transcriptomics_genomics[target_column],\n",
    "                )\n",
    "                chi2, p_value, dof, expected = chi2_contingency(contingency_table)\n",
    "            except:\n",
    "                p_value = 1\n",
    "            p_values.append(p_value)\n",
    "\n",
    "    if variable_type == \"continuous\":\n",
    "        f, p_values = f_oneway(*groups_list)\n",
    "    p_values_df = pd.DataFrame(\n",
    "        p_values,\n",
    "        index=type_columns_combinations[current_type],\n",
    "        columns=[\"p_values\"],\n",
    "    )\n",
    "    p_values_df[\"p_values\"] = (\n",
    "        p_values_df[\"p_values\"].fillna(1).replace([0, np.inf, -np.inf], 1)\n",
    "    )\n",
    "    corrected_p_values = multipletests(\n",
    "        p_values_df[\"p_values\"].tolist(), method=\"fdr_bh\", alpha=0.05\n",
    "    )[1]\n",
    "    p_values_df[\"corrected_p_values\"] = corrected_p_values\n",
    "    p_values_df = p_values_df[p_values_df[\"corrected_p_values\"] < 0.05]\n",
    "\n",
    "    valid_features[current_type] = p_values_df.index.tolist()"
   ]
  },
  {
   "cell_type": "markdown",
   "metadata": {},
   "source": [
    "### HLA highlight"
   ]
  },
  {
   "cell_type": "markdown",
   "metadata": {},
   "source": [
    "Most HLA genes in the dataset show up in the top transcriptomics features."
   ]
  },
  {
   "cell_type": "code",
   "execution_count": null,
   "metadata": {},
   "outputs": [],
   "source": [
    "venn_plot = venn2(\n",
    "    [\n",
    "        set(valid_features[\"Cluster B-inflamed\"][\"transcriptomics\"]),\n",
    "        set([col for col in transcriptomics_columns if \"HLA\" in col]),\n",
    "    ],\n",
    "    set_labels=(\n",
    "        \"Significant genes from\\ntranscriptomics in cluster B\",\n",
    "        \"HLA transcripts measured \\n in the SPARC cohort\",\n",
    "    ),\n",
    ")\n",
    "venn_plot.get_patch_by_id(\"010\").set_color(custom_palette[1])\n",
    "venn_plot.get_patch_by_id(\"10\").set_color(custom_palette[0])\n",
    "venn_plot.get_patch_by_id(\"11\").set_color(\"red\")\n",
    "\n",
    "for text in venn_plot.set_labels:\n",
    "    text.set_fontsize(15)\n",
    "\n",
    "for x in range(len(venn_plot.subset_labels)):\n",
    "    if venn_plot.subset_labels[x] is not None:\n",
    "        venn_plot.subset_labels[x].set_fontsize(15)\n",
    "plt.tight_layout()\n",
    "\n",
    "plt.savefig(\n",
    "    f\"figures/{project_name}_venn_transcriptomics_HLA.png\", dpi=600, bbox_inches=\"tight\"\n",
    ")"
   ]
  },
  {
   "cell_type": "markdown",
   "metadata": {},
   "source": [
    "Make a dictionary with all possible features for each omics type."
   ]
  },
  {
   "cell_type": "code",
   "execution_count": null,
   "metadata": {},
   "outputs": [],
   "source": [
    "joint_feature_dictionary = {}\n",
    "for current_group in groups_of_interest:\n",
    "    for current_omics in valid_features[current_group].keys():\n",
    "        if current_omics not in joint_feature_dictionary.keys():\n",
    "            joint_feature_dictionary[current_omics] = valid_features[current_group][\n",
    "                current_omics\n",
    "            ]\n",
    "        else:\n",
    "            joint_feature_dictionary[current_omics] = list(\n",
    "                set(joint_feature_dictionary[current_omics])\n",
    "                | set(valid_features[current_group][current_omics])\n",
    "            )"
   ]
  },
  {
   "cell_type": "markdown",
   "metadata": {},
   "source": [
    "### Significant features"
   ]
  },
  {
   "cell_type": "markdown",
   "metadata": {},
   "source": [
    "Plot individual plots for each relevant feature against macroscopic appearance, boxplot for continuous variables and heatmap for categorical."
   ]
  },
  {
   "cell_type": "code",
   "execution_count": null,
   "metadata": {},
   "outputs": [],
   "source": [
    "custom_palette = sns.color_palette([\"#16EB96\", \"#F4B183\"])\n",
    "if os.path.exists(f\"figures/individual_analysis/{project_name}\") == True:\n",
    "    shutil.rmtree(f\"figures/individual_analysis/{project_name}\")\n",
    "os.makedirs(f\"figures/individual_analysis/{project_name}\", exist_ok=True)\n",
    "\n",
    "\n",
    "for current_omics in joint_feature_dictionary.keys():\n",
    "    table_replicate = copy.deepcopy(MOFA_proteomics_transcriptomics_genomics)\n",
    "\n",
    "    current_type = variables_types[current_omics]\n",
    "\n",
    "    for current_column in joint_feature_dictionary[current_omics]:\n",
    "        single_column_replicate = copy.deepcopy(\n",
    "            MOFA_proteomics_transcriptomics_genomics[\n",
    "                [\n",
    "                    current_column,\n",
    "                    grouping_variable,\n",
    "                    target_variable,\n",
    "                    combination_groupings,\n",
    "                ]\n",
    "            ]\n",
    "        )\n",
    "        single_column_replicate = single_column_replicate.dropna(\n",
    "            subset=[current_column]\n",
    "        )\n",
    "\n",
    "        plt.clf()\n",
    "        if current_type == \"continuous\":\n",
    "            custom_boxplot(\n",
    "                single_column_replicate,\n",
    "                x_variable=\"cluster\",\n",
    "                y_variable=current_column,\n",
    "                grouping_variable=\"Macro. appear.\",\n",
    "                save_tag=f\"individual_analysis/{project_name}/{current_omics}\",\n",
    "                add_stats=True,\n",
    "                pairs_to_annotate=[\n",
    "                    ((\"A\", \"inflamed\"), (\"A\", \"normal\")),\n",
    "                    ((\"B\", \"inflamed\"), (\"B\", \"normal\")),\n",
    "                    ((\"A\", \"inflamed\"), (\"B\", \"normal\")),\n",
    "                    ((\"B\", \"inflamed\"), (\"A\", \"normal\")),\n",
    "                    ((\"B\", \"inflamed\"), (\"A\", \"inflamed\")),\n",
    "                ],\n",
    "                circle_size=3,\n",
    "                fig_size=(6, 4),\n",
    "                title=f\"{current_column.split(' ')[0].split('_')[0].upper()}\",\n",
    "                title_fontsize=15,\n",
    "                legend_title=\"Macroscopic appearance\",\n",
    "                legend_spacing=-0.34,\n",
    "                prettify_y_axis=False,\n",
    "            )\n",
    "\n",
    "        elif current_type == \"categorical\":\n",
    "            single_column_replicate[current_column] = single_column_replicate[\n",
    "                current_column\n",
    "            ].astype(str)\n",
    "            if current_omics == \"genomics\":\n",
    "                single_column_replicate = single_column_replicate[\n",
    "                    single_column_replicate[current_column] != \"3\"\n",
    "                ]\n",
    "            two_groups_overlap_heatmap(\n",
    "                single_column_replicate,\n",
    "                column_1=combination_groupings,\n",
    "                column_2=current_column,\n",
    "                save_tag=f\"/individual_analysis/{project_name}/{current_omics}\",\n",
    "            )"
   ]
  },
  {
   "cell_type": "markdown",
   "metadata": {},
   "source": [
    "### Pathway analysis"
   ]
  },
  {
   "cell_type": "markdown",
   "metadata": {},
   "source": [
    "Perform pathway analysis on the top found genes for each omics type."
   ]
  },
  {
   "cell_type": "code",
   "execution_count": null,
   "metadata": {},
   "outputs": [],
   "source": [
    "cluster_mapping_dictionary = {\n",
    "    1: \"non_target_cluster\",\n",
    "    2: \"non_target_cluster\",\n",
    "}\n",
    "\n",
    "pathway_results = {}\n",
    "for current_cluster in MOFA_proteomics_transcriptomics_genomics[\"cluster\"].unique():\n",
    "    duplicated_features_data = copy.deepcopy(\n",
    "        MOFA_proteomics_transcriptomics_genomics\n",
    "    ).fillna(0)\n",
    "\n",
    "    current_combination = f\"Cluster {current_cluster}-inflamed\"\n",
    "    try:\n",
    "        pathway_results[f\"cluster_{current_cluster}_genomics\"] = pathway_analysis(\n",
    "            valid_features[current_combination][\"genomics\"],\n",
    "            p_value=0.01,\n",
    "            number_of_pathways=5,\n",
    "            save_info=f\"{project_name}_{current_combination}_genomics\",\n",
    "            return_df=True,\n",
    "            remove_pathway_source=True,\n",
    "            split_parameters={\"split_by\": \"_\", \"split_when\": [\"chr\"]},\n",
    "        )\n",
    "    except:\n",
    "        pass\n",
    "\n",
    "    try:\n",
    "        pathway_results[f\"cluster_{current_cluster}_proteomics\"] = pathway_analysis(\n",
    "            valid_features[current_combination][\"proteomics\"],\n",
    "            p_value=0.01,\n",
    "            number_of_pathways=5,\n",
    "            save_info=f\"{project_name}_{current_combination}_proteomics\",\n",
    "            return_df=True,\n",
    "            remove_pathway_source=True,\n",
    "            color=\"#F4B183\",\n",
    "            split_parameters={\n",
    "                \"split_by\": \"_\",\n",
    "                \"split_when\": [\n",
    "                    \"Inflammation\",\n",
    "                    \"Cardiometabolic\",\n",
    "                    \"Oncology\",\n",
    "                    \"Neurology\",\n",
    "                ],\n",
    "            },\n",
    "        )\n",
    "    except:\n",
    "        pass\n",
    "\n",
    "    pathway_results[f\"cluster_{current_cluster}_transcriptomics\"] = pathway_analysis(\n",
    "        valid_features[current_combination][\"transcriptomics\"],\n",
    "        p_value=0.01,\n",
    "        number_of_pathways=5,\n",
    "        save_info=f\"{project_name}_{current_combination}_transcriptomics\",\n",
    "        return_df=True,\n",
    "        remove_pathway_source=True,\n",
    "        split_parameters={\"split_by\": \"_\", \"split_when\": []},\n",
    "    )"
   ]
  }
 ],
 "metadata": {
  "kernelspec": {
   "display_name": ".venv",
   "language": "python",
   "name": "python3"
  },
  "language_info": {
   "codemirror_mode": {
    "name": "ipython",
    "version": 3
   },
   "file_extension": ".py",
   "mimetype": "text/x-python",
   "name": "python",
   "nbconvert_exporter": "python",
   "pygments_lexer": "ipython3",
   "version": "3.9.16"
  }
 },
 "nbformat": 4,
 "nbformat_minor": 2
}
