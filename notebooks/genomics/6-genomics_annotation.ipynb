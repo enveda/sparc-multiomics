{
 "cells": [
  {
   "cell_type": "markdown",
   "metadata": {},
   "source": [
    "# Annotating genomics data"
   ]
  },
  {
   "cell_type": "markdown",
   "metadata": {},
   "source": [
    "### Imports"
   ]
  },
  {
   "cell_type": "code",
   "execution_count": null,
   "metadata": {},
   "outputs": [],
   "source": [
    "from sparc_multiomics.utils import get_gene_name\n",
    "import pandas as pd\n",
    "from tqdm import tqdm"
   ]
  },
  {
   "cell_type": "markdown",
   "metadata": {},
   "source": [
    "### Data loading"
   ]
  },
  {
   "cell_type": "code",
   "execution_count": 2,
   "metadata": {},
   "outputs": [
    {
     "name": "stderr",
     "output_type": "stream",
     "text": [
      "INFO:aiobotocore.credentials:Found credentials in shared credentials file: ~/.aws/credentials\n"
     ]
    }
   ],
   "source": [
    "genomics_data = pd.read_parquet(\n",
    "    \"genomics_processed.parquet\",\n",
    ")\n",
    "genomics_data_columns = genomics_data.columns"
   ]
  },
  {
   "cell_type": "markdown",
   "metadata": {},
   "source": [
    "### Annotating the data"
   ]
  },
  {
   "cell_type": "markdown",
   "metadata": {},
   "source": [
    "Iterate through the features and annotate the gene names by chromosome and base pair poisition."
   ]
  },
  {
   "cell_type": "code",
   "execution_count": 4,
   "metadata": {},
   "outputs": [
    {
     "name": "stderr",
     "output_type": "stream",
     "text": [
      "100%|██████████| 305112/305112 [02:46<00:00, 1835.77it/s]\n"
     ]
    }
   ],
   "source": [
    "annotated_genomics_columns = {}\n",
    "for current_column in tqdm(genomics_data_columns):\n",
    "    current_chromosome, current_position = current_column.split(\"_\")\n",
    "    try:\n",
    "        possible_names = get_gene_name(\n",
    "            chromosome=current_chromosome[3:],\n",
    "            bp_position=int(current_position[2:]),\n",
    "            release_number=110,\n",
    "        )\n",
    "        if len(possible_names) == 0:\n",
    "            continue\n",
    "        elif len(possible_names) > 0:\n",
    "            possible_names = [x for x in possible_names if x != \"\"]\n",
    "            if len(possible_names) == 0:\n",
    "                continue\n",
    "        if len(possible_names) == 1:\n",
    "            annotated_genomics_columns[current_column] = (\n",
    "                possible_names[0] + \"_\" + current_column\n",
    "            )\n",
    "        elif len(possible_names) > 1:\n",
    "            annotated_genomics_columns[current_column] = (\n",
    "                \"-\".join(possible_names) + \"_\" + current_column\n",
    "            )\n",
    "    except:\n",
    "        continue"
   ]
  },
  {
   "cell_type": "code",
   "execution_count": 5,
   "metadata": {},
   "outputs": [
    {
     "name": "stdout",
     "output_type": "stream",
     "text": [
      "Successfully annotated 166916 columns\n",
      "This is 54.70664774459131% of the total number of columns\n"
     ]
    }
   ],
   "source": [
    "print(\"Successfully annotated {} columns\".format(len(annotated_genomics_columns)))\n",
    "print(\n",
    "    \"This is {}% of the total number of columns\".format(\n",
    "        len(list(annotated_genomics_columns.keys()))\n",
    "        / (len(genomics_data_columns) - 1)\n",
    "        * 100\n",
    "    )\n",
    ")"
   ]
  },
  {
   "cell_type": "code",
   "execution_count": 6,
   "metadata": {},
   "outputs": [],
   "source": [
    "usable_columns = [\"sample_id\"] + list(annotated_genomics_columns.keys())\n",
    "annotated_genomics_data = genomics_data[usable_columns]\n",
    "annotated_genomics_data = annotated_genomics_data.rename(\n",
    "    columns=annotated_genomics_columns\n",
    ")\n",
    "annotated_genomics_data.to_parquet(\"genomics_annotated.parquet\")"
   ]
  },
  {
   "cell_type": "code",
   "execution_count": 7,
   "metadata": {},
   "outputs": [
    {
     "data": {
      "text/html": [
       "<div>\n",
       "<style scoped>\n",
       "    .dataframe tbody tr th:only-of-type {\n",
       "        vertical-align: middle;\n",
       "    }\n",
       "\n",
       "    .dataframe tbody tr th {\n",
       "        vertical-align: top;\n",
       "    }\n",
       "\n",
       "    .dataframe thead th {\n",
       "        text-align: right;\n",
       "    }\n",
       "</style>\n",
       "<table border=\"1\" class=\"dataframe\">\n",
       "  <thead>\n",
       "    <tr style=\"text-align: right;\">\n",
       "      <th>chr_bp_pos</th>\n",
       "      <th>sample_id</th>\n",
       "      <th>LINC01409_chr1_bp794332</th>\n",
       "      <th>LINC01128_chr1_bp838555</th>\n",
       "      <th>LINC01128_chr1_bp840753</th>\n",
       "      <th>LINC01128_chr1_bp846808</th>\n",
       "      <th>LINC01128_chr1_bp854250</th>\n",
       "      <th>LINC02593_chr1_bp917640</th>\n",
       "      <th>LINC02593_chr1_bp918573</th>\n",
       "      <th>LINC02593_chr1_bp919419</th>\n",
       "      <th>LINC02593_chr1_bp919501</th>\n",
       "      <th>...</th>\n",
       "      <th>MT-ND4L_chrMT_bp10550</th>\n",
       "      <th>MT-ND4_chrMT_bp11251</th>\n",
       "      <th>MT-ND4_chrMT_bp11467</th>\n",
       "      <th>MT-ND4_chrMT_bp11914</th>\n",
       "      <th>MT-TL2_chrMT_bp12308</th>\n",
       "      <th>MT-ND5_chrMT_bp12705</th>\n",
       "      <th>MT-CYB_chrMT_bp15043</th>\n",
       "      <th>MT-CYB_chrMT_bp15452</th>\n",
       "      <th>MT-TT_chrMT_bp15924</th>\n",
       "      <th>MT-TT_chrMT_bp15928</th>\n",
       "    </tr>\n",
       "  </thead>\n",
       "  <tbody>\n",
       "    <tr>\n",
       "      <th>0</th>\n",
       "      <td>203990550002_R01C01</td>\n",
       "      <td>0</td>\n",
       "      <td>1</td>\n",
       "      <td>1</td>\n",
       "      <td>1</td>\n",
       "      <td>1</td>\n",
       "      <td>0</td>\n",
       "      <td>1</td>\n",
       "      <td>3</td>\n",
       "      <td>1</td>\n",
       "      <td>...</td>\n",
       "      <td>0</td>\n",
       "      <td>0</td>\n",
       "      <td>3</td>\n",
       "      <td>0</td>\n",
       "      <td>3</td>\n",
       "      <td>0</td>\n",
       "      <td>0</td>\n",
       "      <td>0</td>\n",
       "      <td>0</td>\n",
       "      <td>0</td>\n",
       "    </tr>\n",
       "    <tr>\n",
       "      <th>1</th>\n",
       "      <td>203990550002_R01C02</td>\n",
       "      <td>0</td>\n",
       "      <td>0</td>\n",
       "      <td>0</td>\n",
       "      <td>0</td>\n",
       "      <td>0</td>\n",
       "      <td>0</td>\n",
       "      <td>3</td>\n",
       "      <td>3</td>\n",
       "      <td>3</td>\n",
       "      <td>...</td>\n",
       "      <td>0</td>\n",
       "      <td>0</td>\n",
       "      <td>3</td>\n",
       "      <td>0</td>\n",
       "      <td>3</td>\n",
       "      <td>0</td>\n",
       "      <td>0</td>\n",
       "      <td>0</td>\n",
       "      <td>0</td>\n",
       "      <td>0</td>\n",
       "    </tr>\n",
       "    <tr>\n",
       "      <th>2</th>\n",
       "      <td>203990550002_R02C01</td>\n",
       "      <td>0</td>\n",
       "      <td>2</td>\n",
       "      <td>1</td>\n",
       "      <td>1</td>\n",
       "      <td>3</td>\n",
       "      <td>0</td>\n",
       "      <td>0</td>\n",
       "      <td>1</td>\n",
       "      <td>3</td>\n",
       "      <td>...</td>\n",
       "      <td>0</td>\n",
       "      <td>0</td>\n",
       "      <td>0</td>\n",
       "      <td>0</td>\n",
       "      <td>0</td>\n",
       "      <td>3</td>\n",
       "      <td>0</td>\n",
       "      <td>0</td>\n",
       "      <td>0</td>\n",
       "      <td>0</td>\n",
       "    </tr>\n",
       "    <tr>\n",
       "      <th>3</th>\n",
       "      <td>203990550002_R02C02</td>\n",
       "      <td>0</td>\n",
       "      <td>1</td>\n",
       "      <td>0</td>\n",
       "      <td>0</td>\n",
       "      <td>0</td>\n",
       "      <td>1</td>\n",
       "      <td>1</td>\n",
       "      <td>1</td>\n",
       "      <td>0</td>\n",
       "      <td>...</td>\n",
       "      <td>0</td>\n",
       "      <td>0</td>\n",
       "      <td>0</td>\n",
       "      <td>0</td>\n",
       "      <td>0</td>\n",
       "      <td>0</td>\n",
       "      <td>0</td>\n",
       "      <td>0</td>\n",
       "      <td>0</td>\n",
       "      <td>0</td>\n",
       "    </tr>\n",
       "    <tr>\n",
       "      <th>4</th>\n",
       "      <td>203990550002_R03C02</td>\n",
       "      <td>0</td>\n",
       "      <td>1</td>\n",
       "      <td>1</td>\n",
       "      <td>0</td>\n",
       "      <td>0</td>\n",
       "      <td>0</td>\n",
       "      <td>3</td>\n",
       "      <td>3</td>\n",
       "      <td>3</td>\n",
       "      <td>...</td>\n",
       "      <td>0</td>\n",
       "      <td>0</td>\n",
       "      <td>0</td>\n",
       "      <td>0</td>\n",
       "      <td>0</td>\n",
       "      <td>0</td>\n",
       "      <td>0</td>\n",
       "      <td>0</td>\n",
       "      <td>0</td>\n",
       "      <td>0</td>\n",
       "    </tr>\n",
       "  </tbody>\n",
       "</table>\n",
       "<p>5 rows × 166917 columns</p>\n",
       "</div>"
      ],
      "text/plain": [
       "chr_bp_pos            sample_id  LINC01409_chr1_bp794332  \\\n",
       "0           203990550002_R01C01                        0   \n",
       "1           203990550002_R01C02                        0   \n",
       "2           203990550002_R02C01                        0   \n",
       "3           203990550002_R02C02                        0   \n",
       "4           203990550002_R03C02                        0   \n",
       "\n",
       "chr_bp_pos  LINC01128_chr1_bp838555  LINC01128_chr1_bp840753  \\\n",
       "0                                 1                        1   \n",
       "1                                 0                        0   \n",
       "2                                 2                        1   \n",
       "3                                 1                        0   \n",
       "4                                 1                        1   \n",
       "\n",
       "chr_bp_pos  LINC01128_chr1_bp846808  LINC01128_chr1_bp854250  \\\n",
       "0                                 1                        1   \n",
       "1                                 0                        0   \n",
       "2                                 1                        3   \n",
       "3                                 0                        0   \n",
       "4                                 0                        0   \n",
       "\n",
       "chr_bp_pos  LINC02593_chr1_bp917640  LINC02593_chr1_bp918573  \\\n",
       "0                                 0                        1   \n",
       "1                                 0                        3   \n",
       "2                                 0                        0   \n",
       "3                                 1                        1   \n",
       "4                                 0                        3   \n",
       "\n",
       "chr_bp_pos  LINC02593_chr1_bp919419  LINC02593_chr1_bp919501  ...  \\\n",
       "0                                 3                        1  ...   \n",
       "1                                 3                        3  ...   \n",
       "2                                 1                        3  ...   \n",
       "3                                 1                        0  ...   \n",
       "4                                 3                        3  ...   \n",
       "\n",
       "chr_bp_pos  MT-ND4L_chrMT_bp10550  MT-ND4_chrMT_bp11251  MT-ND4_chrMT_bp11467  \\\n",
       "0                               0                     0                     3   \n",
       "1                               0                     0                     3   \n",
       "2                               0                     0                     0   \n",
       "3                               0                     0                     0   \n",
       "4                               0                     0                     0   \n",
       "\n",
       "chr_bp_pos  MT-ND4_chrMT_bp11914  MT-TL2_chrMT_bp12308  MT-ND5_chrMT_bp12705  \\\n",
       "0                              0                     3                     0   \n",
       "1                              0                     3                     0   \n",
       "2                              0                     0                     3   \n",
       "3                              0                     0                     0   \n",
       "4                              0                     0                     0   \n",
       "\n",
       "chr_bp_pos  MT-CYB_chrMT_bp15043  MT-CYB_chrMT_bp15452  MT-TT_chrMT_bp15924  \\\n",
       "0                              0                     0                    0   \n",
       "1                              0                     0                    0   \n",
       "2                              0                     0                    0   \n",
       "3                              0                     0                    0   \n",
       "4                              0                     0                    0   \n",
       "\n",
       "chr_bp_pos  MT-TT_chrMT_bp15928  \n",
       "0                             0  \n",
       "1                             0  \n",
       "2                             0  \n",
       "3                             0  \n",
       "4                             0  \n",
       "\n",
       "[5 rows x 166917 columns]"
      ]
     },
     "execution_count": 7,
     "metadata": {},
     "output_type": "execute_result"
    }
   ],
   "source": [
    "annotated_genomics_data.head(5)"
   ]
  }
 ],
 "metadata": {
  "kernelspec": {
   "display_name": ".venv",
   "language": "python",
   "name": "python3"
  },
  "language_info": {
   "codemirror_mode": {
    "name": "ipython",
    "version": 3
   },
   "file_extension": ".py",
   "mimetype": "text/x-python",
   "name": "python",
   "nbconvert_exporter": "python",
   "pygments_lexer": "ipython3",
   "version": "3.9.16"
  }
 },
 "nbformat": 4,
 "nbformat_minor": 2
}
