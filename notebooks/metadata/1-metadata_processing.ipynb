{
 "cells": [
  {
   "cell_type": "markdown",
   "metadata": {},
   "source": [
    "# Metadata curation"
   ]
  },
  {
   "cell_type": "markdown",
   "metadata": {},
   "source": [
    "Performing metadata curation to standardize terminology, limit unnecessary variance and other needed changes."
   ]
  },
  {
   "cell_type": "markdown",
   "metadata": {},
   "source": [
    "### Imports"
   ]
  },
  {
   "cell_type": "code",
   "execution_count": null,
   "metadata": {},
   "outputs": [],
   "source": [
    "import pandas as pd\n",
    "import awswrangler as wr"
   ]
  },
  {
   "cell_type": "markdown",
   "metadata": {},
   "source": [
    "### Raw data loading"
   ]
  },
  {
   "cell_type": "code",
   "execution_count": 2,
   "metadata": {},
   "outputs": [],
   "source": [
    "file_location = \"raw_metadata.xlsx\"\n",
    "raw_metadata_table = wr.s3.read_excel(file_location)\n",
    "metadata_table = raw_metadata_table.copy()"
   ]
  },
  {
   "cell_type": "markdown",
   "metadata": {},
   "source": [
    "### Clarify column names"
   ]
  },
  {
   "cell_type": "code",
   "execution_count": 4,
   "metadata": {},
   "outputs": [],
   "source": [
    "metadata_table = metadata_table.rename(\n",
    "    columns={\n",
    "        \"ASSAY_NAME\": \"omics\",\n",
    "        \"SUB_LOCATION__C\": \"sub_location\",\n",
    "        \"DEIDENTIFIED_MASTER_PATIENT_ID\": \"patient_id\",\n",
    "    }\n",
    ")\n",
    "metadata_table.columns = metadata_table.columns.str.lower()"
   ]
  },
  {
   "cell_type": "code",
   "execution_count": 5,
   "metadata": {},
   "outputs": [],
   "source": [
    "metadata_table[\"omics\"] = metadata_table[\"omics\"].replace(\n",
    "    to_replace={\n",
    "        \"RNASeq\": \"transcriptomics\",\n",
    "        \"Genotyping (Global Screening Array)\": \"genomics_array\",\n",
    "        \"Whole Exome Sequencing\": \"genomics_exome\",\n",
    "        \"Proteomic biomarker panels (Olink)\": \"proteomics\",\n",
    "    }\n",
    ")"
   ]
  },
  {
   "cell_type": "markdown",
   "metadata": {},
   "source": [
    "Fill a new batch column by extracting it from the file path."
   ]
  },
  {
   "cell_type": "code",
   "execution_count": 6,
   "metadata": {},
   "outputs": [],
   "source": [
    "metadata_table[\"batch\"] = metadata_table[\"requested_file_path\"].str.split(\n",
    "    \"/\", expand=True\n",
    ")[1]\n",
    "metadata_table.drop(columns=[\"requested_file_path\"], inplace=True)"
   ]
  },
  {
   "cell_type": "markdown",
   "metadata": {},
   "source": [
    "Initiate empty sample id column to be filled with the omics unique ids."
   ]
  },
  {
   "cell_type": "code",
   "execution_count": 7,
   "metadata": {},
   "outputs": [],
   "source": [
    "metadata_table[\"sample_id\"] = \"\""
   ]
  },
  {
   "cell_type": "markdown",
   "metadata": {},
   "source": [
    "## Transcriptomics"
   ]
  },
  {
   "cell_type": "code",
   "execution_count": 8,
   "metadata": {},
   "outputs": [],
   "source": [
    "# drop R2 files\n",
    "metadata_table = metadata_table.loc[\n",
    "    (~metadata_table[\"raw_data_file_name\"].str.contains(\"_R2\"))\n",
    "].copy()"
   ]
  },
  {
   "cell_type": "markdown",
   "metadata": {},
   "source": [
    "Get the sample ids from the file name."
   ]
  },
  {
   "cell_type": "code",
   "execution_count": 10,
   "metadata": {},
   "outputs": [],
   "source": [
    "transcriptomics = metadata_table.loc[\n",
    "    (metadata_table[\"omics\"] == \"transcriptomics\"),\n",
    "    \"raw_data_file_name\",\n",
    "].str.split(\"_\", expand=True)[0]\n",
    "transcriptomics_idx = transcriptomics.index\n",
    "\n",
    "metadata_table.loc[transcriptomics_idx, \"sample_id\"] = transcriptomics"
   ]
  },
  {
   "cell_type": "markdown",
   "metadata": {},
   "source": [
    "## Genomics (exome)"
   ]
  },
  {
   "cell_type": "markdown",
   "metadata": {},
   "source": [
    "Get the sample ids from the file name."
   ]
  },
  {
   "cell_type": "code",
   "execution_count": 11,
   "metadata": {},
   "outputs": [],
   "source": [
    "genomics_exome = metadata_table.loc[\n",
    "    metadata_table[\"omics\"].str.contains(\"genomics_exome\"), \"raw_data_file_name\"\n",
    "].str.split(\".\", expand=True)[0]\n",
    "genomics_exome_idx = genomics_exome.index\n",
    "\n",
    "metadata_table.loc[genomics_exome_idx, \"sample_id\"] = genomics_exome"
   ]
  },
  {
   "cell_type": "markdown",
   "metadata": {},
   "source": [
    "## Genomics (SNP Array)"
   ]
  },
  {
   "cell_type": "markdown",
   "metadata": {},
   "source": [
    "Get the sample ids from the file name.\n"
   ]
  },
  {
   "cell_type": "code",
   "execution_count": 12,
   "metadata": {},
   "outputs": [],
   "source": [
    "genomics_snp = metadata_table.loc[\n",
    "    metadata_table[\"omics\"].str.contains(\"genomics_array\"), \"raw_data_file_name\"\n",
    "].str.split(\"_[RG][er]\", expand=True, regex=True)[0]\n",
    "genomics_snp_idx = genomics_snp.index\n",
    "\n",
    "metadata_table.loc[genomics_snp_idx, \"sample_id\"] = genomics_snp"
   ]
  },
  {
   "cell_type": "markdown",
   "metadata": {},
   "source": [
    "Identify duplicate samples because of the luminescence method, and removing the red ones."
   ]
  },
  {
   "cell_type": "code",
   "execution_count": 15,
   "metadata": {},
   "outputs": [
    {
     "name": "stdout",
     "output_type": "stream",
     "text": [
      "Number of samples with Red: 2863\n"
     ]
    }
   ],
   "source": [
    "# drop red files\n",
    "print(\n",
    "    f\"Number of samples with Red: {metadata_table.raw_data_file_name.str.contains('_Red').sum()}\"\n",
    ")"
   ]
  },
  {
   "cell_type": "code",
   "execution_count": 14,
   "metadata": {},
   "outputs": [
    {
     "name": "stdout",
     "output_type": "stream",
     "text": [
      "Number of samples with Grn: 2863\n"
     ]
    }
   ],
   "source": [
    "print(\n",
    "    f\"Number of samples with Grn: {metadata_table.raw_data_file_name.str.contains('_Grn').sum()}\"\n",
    ")"
   ]
  },
  {
   "cell_type": "code",
   "execution_count": 16,
   "metadata": {},
   "outputs": [
    {
     "name": "stdout",
     "output_type": "stream",
     "text": [
      "Metadata table before dropping genomics array Red: (14145, 143)\n",
      "Metadata table after dropping genomics array Red: (11282, 143)\n"
     ]
    }
   ],
   "source": [
    "print(f\"Metadata table before dropping genomics array Red: {metadata_table.shape}\")\n",
    "metadata_table = metadata_table.loc[\n",
    "    (~metadata_table[\"raw_data_file_name\"].str.contains(\"Red\"))\n",
    "]\n",
    "print(f\"Metadata table after dropping genomics array Red: {metadata_table.shape}\")"
   ]
  },
  {
   "cell_type": "markdown",
   "metadata": {},
   "source": [
    "## Proteomics"
   ]
  },
  {
   "cell_type": "markdown",
   "metadata": {},
   "source": [
    "Get the sample ids from the file name."
   ]
  },
  {
   "cell_type": "code",
   "execution_count": 17,
   "metadata": {},
   "outputs": [],
   "source": [
    "proteomics = metadata_table.loc[\n",
    "    metadata_table[\"omics\"].str.contains(\"proteomics\"), \"raw_data_file_name\"\n",
    "].str.split(\".\", expand=True)[0]\n",
    "proteomics_idx = proteomics.index\n",
    "\n",
    "metadata_table.loc[proteomics_idx, \"sample_id\"] = proteomics"
   ]
  },
  {
   "cell_type": "markdown",
   "metadata": {},
   "source": [
    "#### Check for missing values"
   ]
  },
  {
   "cell_type": "code",
   "execution_count": 18,
   "metadata": {},
   "outputs": [
    {
     "data": {
      "text/plain": [
       "0"
      ]
     },
     "execution_count": 18,
     "metadata": {},
     "output_type": "execute_result"
    }
   ],
   "source": [
    "metadata_table.sample_id.isna().sum()"
   ]
  },
  {
   "cell_type": "markdown",
   "metadata": {},
   "source": [
    "Further investigation found duplicates later on in subsequent analyses. So we decided to dig deeper. We found that 6 patients have duplicate sample ids. We decided to drop these patients from the analysis because:\n",
    "- it is only 6 samples\n",
    "- in some cases where the difference is `sub_location`, the `sub_location` is not consistent with the other samples from the same patient\n",
    "- there were a couple of NaN values as well\n",
    "- for the Normal vs Erosions or Ulcers values, we couldn't pick one"
   ]
  },
  {
   "cell_type": "code",
   "execution_count": 19,
   "metadata": {},
   "outputs": [
    {
     "name": "stdout",
     "output_type": "stream",
     "text": [
      "FS04287240 sub_location 2 ['Most Proximal Extent' 'Most Proximal']\n",
      "8051568126 macroscopic_appearance 2 [nan 'Normal']\n",
      "8051391228 macroscopic_appearance 2 ['Normal' nan]\n",
      "8051387535 macroscopic_appearance 2 ['Erosions or Ulcers' 'Normal']\n",
      "8051568148 macroscopic_appearance 2 ['Normal' 'Erosions or Ulcers']\n",
      "8051600355 macroscopic_appearance 2 ['Normal' 'Erosions or Ulcers']\n"
     ]
    }
   ],
   "source": [
    "dup_ids = metadata_table.loc[\n",
    "    metadata_table.sample_id.duplicated(keep=False)\n",
    "    & ~(metadata_table.omics == \"genomics_array\")\n",
    "].sample_id.unique()\n",
    "for dup_id in dup_ids:\n",
    "    for column in metadata_table.columns:\n",
    "        l = len(metadata_table.loc[metadata_table.sample_id == dup_id, column].unique())\n",
    "        if l > 1:\n",
    "            print(\n",
    "                dup_id,\n",
    "                column,\n",
    "                l,\n",
    "                metadata_table.loc[metadata_table.sample_id == dup_id, column].unique(),\n",
    "            )"
   ]
  },
  {
   "cell_type": "code",
   "execution_count": 20,
   "metadata": {},
   "outputs": [
    {
     "data": {
      "text/html": [
       "<div>\n",
       "<style scoped>\n",
       "    .dataframe tbody tr th:only-of-type {\n",
       "        vertical-align: middle;\n",
       "    }\n",
       "\n",
       "    .dataframe tbody tr th {\n",
       "        vertical-align: top;\n",
       "    }\n",
       "\n",
       "    .dataframe thead th {\n",
       "        text-align: right;\n",
       "    }\n",
       "</style>\n",
       "<table border=\"1\" class=\"dataframe\">\n",
       "  <thead>\n",
       "    <tr style=\"text-align: right;\">\n",
       "      <th></th>\n",
       "      <th>patient_id</th>\n",
       "      <th>investigation_title</th>\n",
       "      <th>ibd_plexus_data_release_date</th>\n",
       "      <th>investigation_disease</th>\n",
       "      <th>investigation_description</th>\n",
       "      <th>investigation_cont_last_name</th>\n",
       "      <th>investigation_cont_first_name</th>\n",
       "      <th>investigation_cont_email</th>\n",
       "      <th>investigation_cont_inst/org</th>\n",
       "      <th>study_title</th>\n",
       "      <th>...</th>\n",
       "      <th>rectum</th>\n",
       "      <th>sigmoid_colon</th>\n",
       "      <th>right_colon</th>\n",
       "      <th>descending_colon</th>\n",
       "      <th>transverse_colon</th>\n",
       "      <th>endoscopy_60</th>\n",
       "      <th>ostomy</th>\n",
       "      <th>disease_activity_60</th>\n",
       "      <th>batch</th>\n",
       "      <th>sample_id</th>\n",
       "    </tr>\n",
       "  </thead>\n",
       "  <tbody>\n",
       "    <tr>\n",
       "      <th>11656</th>\n",
       "      <td>17485622</td>\n",
       "      <td>Biopsy RNASeq Data Generation</td>\n",
       "      <td>20-OCT-2021</td>\n",
       "      <td>IBD</td>\n",
       "      <td>Generation of RNASeq data from tissue biopsy b...</td>\n",
       "      <td>Hurtado-Lorenzo</td>\n",
       "      <td>Andres</td>\n",
       "      <td>ahurtadolorenzo@crohnscolitisfoundation.org</td>\n",
       "      <td>Crohn's and Colitis Foundation</td>\n",
       "      <td>Biopsy RNASeq Data Generation</td>\n",
       "      <td>...</td>\n",
       "      <td>NaN</td>\n",
       "      <td>NaN</td>\n",
       "      <td>NaN</td>\n",
       "      <td>NaN</td>\n",
       "      <td>NaN</td>\n",
       "      <td>NaN</td>\n",
       "      <td>NaN</td>\n",
       "      <td>Remission</td>\n",
       "      <td>sparc-genewiz-2021</td>\n",
       "      <td>FS04287240</td>\n",
       "    </tr>\n",
       "    <tr>\n",
       "      <th>11657</th>\n",
       "      <td>17485622</td>\n",
       "      <td>Biopsy RNASeq Data Generation</td>\n",
       "      <td>20-OCT-2021</td>\n",
       "      <td>IBD</td>\n",
       "      <td>Generation of RNASeq data from tissue biopsy b...</td>\n",
       "      <td>Hurtado-Lorenzo</td>\n",
       "      <td>Andres</td>\n",
       "      <td>ahurtadolorenzo@crohnscolitisfoundation.org</td>\n",
       "      <td>Crohn's and Colitis Foundation</td>\n",
       "      <td>Biopsy RNASeq Data Generation</td>\n",
       "      <td>...</td>\n",
       "      <td>NaN</td>\n",
       "      <td>NaN</td>\n",
       "      <td>NaN</td>\n",
       "      <td>NaN</td>\n",
       "      <td>NaN</td>\n",
       "      <td>NaN</td>\n",
       "      <td>NaN</td>\n",
       "      <td>Remission</td>\n",
       "      <td>sparc-genewiz-2021</td>\n",
       "      <td>FS04287240</td>\n",
       "    </tr>\n",
       "  </tbody>\n",
       "</table>\n",
       "<p>2 rows × 143 columns</p>\n",
       "</div>"
      ],
      "text/plain": [
       "       patient_id            investigation_title ibd_plexus_data_release_date  \\\n",
       "11656    17485622  Biopsy RNASeq Data Generation                  20-OCT-2021   \n",
       "11657    17485622  Biopsy RNASeq Data Generation                  20-OCT-2021   \n",
       "\n",
       "      investigation_disease  \\\n",
       "11656                   IBD   \n",
       "11657                   IBD   \n",
       "\n",
       "                               investigation_description  \\\n",
       "11656  Generation of RNASeq data from tissue biopsy b...   \n",
       "11657  Generation of RNASeq data from tissue biopsy b...   \n",
       "\n",
       "      investigation_cont_last_name investigation_cont_first_name  \\\n",
       "11656              Hurtado-Lorenzo                        Andres   \n",
       "11657              Hurtado-Lorenzo                        Andres   \n",
       "\n",
       "                          investigation_cont_email  \\\n",
       "11656  ahurtadolorenzo@crohnscolitisfoundation.org   \n",
       "11657  ahurtadolorenzo@crohnscolitisfoundation.org   \n",
       "\n",
       "          investigation_cont_inst/org                    study_title  ...  \\\n",
       "11656  Crohn's and Colitis Foundation  Biopsy RNASeq Data Generation  ...   \n",
       "11657  Crohn's and Colitis Foundation  Biopsy RNASeq Data Generation  ...   \n",
       "\n",
       "      rectum sigmoid_colon right_colon descending_colon  transverse_colon  \\\n",
       "11656    NaN           NaN         NaN              NaN               NaN   \n",
       "11657    NaN           NaN         NaN              NaN               NaN   \n",
       "\n",
       "       endoscopy_60  ostomy disease_activity_60               batch  \\\n",
       "11656           NaN     NaN           Remission  sparc-genewiz-2021   \n",
       "11657           NaN     NaN           Remission  sparc-genewiz-2021   \n",
       "\n",
       "        sample_id  \n",
       "11656  FS04287240  \n",
       "11657  FS04287240  \n",
       "\n",
       "[2 rows x 143 columns]"
      ]
     },
     "execution_count": 20,
     "metadata": {},
     "output_type": "execute_result"
    }
   ],
   "source": [
    "# shows that most proximal / extent is only present for this one sample_id... so we can drop it\n",
    "metadata_table.loc[\n",
    "    (metadata_table.sub_location == \"Most Proximal\")\n",
    "    | (metadata_table[\"sub_location\"] == \"Most Proximal Extent\")\n",
    "]"
   ]
  },
  {
   "cell_type": "code",
   "execution_count": 24,
   "metadata": {},
   "outputs": [
    {
     "name": "stdout",
     "output_type": "stream",
     "text": [
      "Duplicate sample ids: ['FS04287240' '8051568126' '8051391228' '8051387535' '8051568148'\n",
      " '8051600355']\n"
     ]
    }
   ],
   "source": [
    "print(f\"Duplicate sample ids: {dup_ids}\")"
   ]
  },
  {
   "cell_type": "code",
   "execution_count": 25,
   "metadata": {},
   "outputs": [],
   "source": [
    "# so dropping thses 6 samples\n",
    "metadata_table = metadata_table.loc[~metadata_table.sample_id.isin(dup_ids)]"
   ]
  },
  {
   "cell_type": "markdown",
   "metadata": {},
   "source": [
    "## Simple Tissue"
   ]
  },
  {
   "cell_type": "markdown",
   "metadata": {},
   "source": [
    "Aggregating the tissues into larger categories."
   ]
  },
  {
   "cell_type": "code",
   "execution_count": 26,
   "metadata": {},
   "outputs": [],
   "source": [
    "# characteristics_bio_material --> simple_tissue\n",
    "tissues_mapping = {\n",
    "    \"Descending Colon\": \"colon\",\n",
    "    \"Transverse Colon\": \"colon\",\n",
    "    \"At 20 cm\": \"colon\",\n",
    "    \"Rectum\": \"colon\",\n",
    "    \"Ascending Colon\": \"colon\",\n",
    "    \"Sigmoid Colon\": \"colon\",\n",
    "    \"Ileum\": \"small_intestine\",\n",
    "    \"Cecum\": \"small_intestine\",\n",
    "}\n",
    "metadata_table[\"simple_tissue\"] = (\n",
    "    metadata_table[\"characteristics_bio_material\"].replace(tissues_mapping).str.lower()\n",
    ")\n",
    "metadata_table[\"characteristics_bio_material\"] = (\n",
    "    metadata_table[\"characteristics_bio_material\"].str.replace(\" \", \"_\").str.lower()\n",
    ")"
   ]
  },
  {
   "cell_type": "code",
   "execution_count": 27,
   "metadata": {},
   "outputs": [
    {
     "data": {
      "text/plain": [
       "simple_tissue\n",
       "blood              5723\n",
       "plasma             2250\n",
       "colon              1795\n",
       "small_intestine    1330\n",
       "other               171\n",
       "Name: count, dtype: int64"
      ]
     },
     "execution_count": 27,
     "metadata": {},
     "output_type": "execute_result"
    }
   ],
   "source": [
    "metadata_table.simple_tissue.value_counts()"
   ]
  },
  {
   "cell_type": "markdown",
   "metadata": {},
   "source": [
    "### Simplify Macroscopic Appearance "
   ]
  },
  {
   "cell_type": "code",
   "execution_count": 28,
   "metadata": {},
   "outputs": [],
   "source": [
    "inflamed_map = {\n",
    "    \"Normal\": \"normal\",\n",
    "    \"Erosions or Ulcers\": \"inflamed\",\n",
    "    \"Possible inflammation\": \"poss_inflamed\",\n",
    "}\n",
    "metadata_table[\"macroscopic_appearance\"] = (\n",
    "    metadata_table[\"macroscopic_appearance\"].replace(inflamed_map).str.lower()\n",
    ")"
   ]
  },
  {
   "cell_type": "code",
   "execution_count": 29,
   "metadata": {},
   "outputs": [
    {
     "data": {
      "text/plain": [
       "macroscopic_appearance\n",
       "normal           2200\n",
       "inflamed          648\n",
       "poss_inflamed     281\n",
       "Name: count, dtype: int64"
      ]
     },
     "execution_count": 29,
     "metadata": {},
     "output_type": "execute_result"
    }
   ],
   "source": [
    "metadata_table.macroscopic_appearance.value_counts()"
   ]
  },
  {
   "cell_type": "markdown",
   "metadata": {},
   "source": [
    "## UC vs CD"
   ]
  },
  {
   "cell_type": "code",
   "execution_count": 30,
   "metadata": {},
   "outputs": [],
   "source": [
    "uc_cd_map = {\n",
    "    \"Ulcerative Colitis\": \"uc\",\n",
    "    \"Crohn's Disease\": \"cd\",\n",
    "    \"IBD Unclassified\": \"ibd_unclassified\",\n",
    "}\n",
    "metadata_table[\"diagnosis\"] = metadata_table[\"diagnosis\"].replace(uc_cd_map).str.lower()"
   ]
  },
  {
   "cell_type": "code",
   "execution_count": 31,
   "metadata": {},
   "outputs": [
    {
     "data": {
      "text/plain": [
       "diagnosis\n",
       "cd                  7286\n",
       "uc                  3772\n",
       "ibd_unclassified     212\n",
       "Name: count, dtype: int64"
      ]
     },
     "execution_count": 31,
     "metadata": {},
     "output_type": "execute_result"
    }
   ],
   "source": [
    "metadata_table.diagnosis.value_counts()"
   ]
  },
  {
   "cell_type": "code",
   "execution_count": 32,
   "metadata": {},
   "outputs": [],
   "source": [
    "metadata_table[\n",
    "    [\n",
    "        \"sex\",\n",
    "        \"diagnosis\",\n",
    "        \"endo_category\",\n",
    "        \"sub_location\",\n",
    "        \"macroscopic_appearance\",\n",
    "        \"disease_activity_60\",\n",
    "        \"perianal\",\n",
    "    ]\n",
    "] = metadata_table[\n",
    "    [\n",
    "        \"sex\",\n",
    "        \"diagnosis\",\n",
    "        \"endo_category\",\n",
    "        \"sub_location\",\n",
    "        \"macroscopic_appearance\",\n",
    "        \"disease_activity_60\",\n",
    "        \"perianal\",\n",
    "    ]\n",
    "].apply(lambda x: x.str.lower())\n",
    "metadata_table.drop(columns=[\"raw_data_file_name\"], inplace=True)"
   ]
  },
  {
   "cell_type": "code",
   "execution_count": 33,
   "metadata": {},
   "outputs": [
    {
     "data": {
      "text/html": [
       "<div>\n",
       "<style scoped>\n",
       "    .dataframe tbody tr th:only-of-type {\n",
       "        vertical-align: middle;\n",
       "    }\n",
       "\n",
       "    .dataframe tbody tr th {\n",
       "        vertical-align: top;\n",
       "    }\n",
       "\n",
       "    .dataframe thead th {\n",
       "        text-align: right;\n",
       "    }\n",
       "</style>\n",
       "<table border=\"1\" class=\"dataframe\">\n",
       "  <thead>\n",
       "    <tr style=\"text-align: right;\">\n",
       "      <th></th>\n",
       "      <th>patient_id</th>\n",
       "      <th>investigation_title</th>\n",
       "      <th>ibd_plexus_data_release_date</th>\n",
       "      <th>investigation_disease</th>\n",
       "      <th>investigation_description</th>\n",
       "      <th>investigation_cont_last_name</th>\n",
       "      <th>investigation_cont_first_name</th>\n",
       "      <th>investigation_cont_email</th>\n",
       "      <th>investigation_cont_inst/org</th>\n",
       "      <th>study_title</th>\n",
       "      <th>...</th>\n",
       "      <th>sigmoid_colon</th>\n",
       "      <th>right_colon</th>\n",
       "      <th>descending_colon</th>\n",
       "      <th>transverse_colon</th>\n",
       "      <th>endoscopy_60</th>\n",
       "      <th>ostomy</th>\n",
       "      <th>disease_activity_60</th>\n",
       "      <th>batch</th>\n",
       "      <th>sample_id</th>\n",
       "      <th>simple_tissue</th>\n",
       "    </tr>\n",
       "  </thead>\n",
       "  <tbody>\n",
       "    <tr>\n",
       "      <th>0</th>\n",
       "      <td>9014430</td>\n",
       "      <td>Blood DNA Genotyping Data Generation</td>\n",
       "      <td>30-APR-2020</td>\n",
       "      <td>IBD</td>\n",
       "      <td>Generation of global screening array and whole...</td>\n",
       "      <td>Hurtado-Lorenzo</td>\n",
       "      <td>Andres</td>\n",
       "      <td>ahurtadolorenzo@crohnscolitisfoundation.org</td>\n",
       "      <td>Crohn's and Colitis Foundation</td>\n",
       "      <td>Blood DNA Genotyping Data Generation</td>\n",
       "      <td>...</td>\n",
       "      <td>NaN</td>\n",
       "      <td>NaN</td>\n",
       "      <td>NaN</td>\n",
       "      <td>NaN</td>\n",
       "      <td>NaN</td>\n",
       "      <td>No Previous Ostomy</td>\n",
       "      <td>NaN</td>\n",
       "      <td>sparc-genotyping</td>\n",
       "      <td>1203012005</td>\n",
       "      <td>blood</td>\n",
       "    </tr>\n",
       "    <tr>\n",
       "      <th>2</th>\n",
       "      <td>9014430</td>\n",
       "      <td>Blood DNA Genotyping Data Generation</td>\n",
       "      <td>30-APR-2020</td>\n",
       "      <td>IBD</td>\n",
       "      <td>Generation of global screening array and whole...</td>\n",
       "      <td>Hurtado-Lorenzo</td>\n",
       "      <td>Andres</td>\n",
       "      <td>ahurtadolorenzo@crohnscolitisfoundation.org</td>\n",
       "      <td>Crohn's and Colitis Foundation</td>\n",
       "      <td>Blood DNA Genotyping Data Generation</td>\n",
       "      <td>...</td>\n",
       "      <td>NaN</td>\n",
       "      <td>NaN</td>\n",
       "      <td>NaN</td>\n",
       "      <td>NaN</td>\n",
       "      <td>NaN</td>\n",
       "      <td>No Previous Ostomy</td>\n",
       "      <td>NaN</td>\n",
       "      <td>sparc-genotyping</td>\n",
       "      <td>203990560025_R01C01</td>\n",
       "      <td>blood</td>\n",
       "    </tr>\n",
       "    <tr>\n",
       "      <th>3</th>\n",
       "      <td>9014431</td>\n",
       "      <td>Blood DNA Genotyping Data Generation</td>\n",
       "      <td>30-APR-2020</td>\n",
       "      <td>IBD</td>\n",
       "      <td>Generation of global screening array and whole...</td>\n",
       "      <td>Hurtado-Lorenzo</td>\n",
       "      <td>Andres</td>\n",
       "      <td>ahurtadolorenzo@crohnscolitisfoundation.org</td>\n",
       "      <td>Crohn's and Colitis Foundation</td>\n",
       "      <td>Blood DNA Genotyping Data Generation</td>\n",
       "      <td>...</td>\n",
       "      <td>NaN</td>\n",
       "      <td>NaN</td>\n",
       "      <td>NaN</td>\n",
       "      <td>NaN</td>\n",
       "      <td>NaN</td>\n",
       "      <td>NaN</td>\n",
       "      <td>moderate</td>\n",
       "      <td>sparc-genotyping</td>\n",
       "      <td>203990550092_R09C02</td>\n",
       "      <td>blood</td>\n",
       "    </tr>\n",
       "    <tr>\n",
       "      <th>5</th>\n",
       "      <td>9014431</td>\n",
       "      <td>Blood DNA Genotyping Data Generation</td>\n",
       "      <td>30-APR-2020</td>\n",
       "      <td>IBD</td>\n",
       "      <td>Generation of global screening array and whole...</td>\n",
       "      <td>Hurtado-Lorenzo</td>\n",
       "      <td>Andres</td>\n",
       "      <td>ahurtadolorenzo@crohnscolitisfoundation.org</td>\n",
       "      <td>Crohn's and Colitis Foundation</td>\n",
       "      <td>Blood DNA Genotyping Data Generation</td>\n",
       "      <td>...</td>\n",
       "      <td>NaN</td>\n",
       "      <td>NaN</td>\n",
       "      <td>NaN</td>\n",
       "      <td>NaN</td>\n",
       "      <td>NaN</td>\n",
       "      <td>NaN</td>\n",
       "      <td>moderate</td>\n",
       "      <td>sparc-genotyping</td>\n",
       "      <td>1203012008</td>\n",
       "      <td>blood</td>\n",
       "    </tr>\n",
       "    <tr>\n",
       "      <th>6</th>\n",
       "      <td>9014432</td>\n",
       "      <td>Blood DNA Genotyping Data Generation</td>\n",
       "      <td>30-APR-2020</td>\n",
       "      <td>IBD</td>\n",
       "      <td>Generation of global screening array and whole...</td>\n",
       "      <td>Hurtado-Lorenzo</td>\n",
       "      <td>Andres</td>\n",
       "      <td>ahurtadolorenzo@crohnscolitisfoundation.org</td>\n",
       "      <td>Crohn's and Colitis Foundation</td>\n",
       "      <td>Blood DNA Genotyping Data Generation</td>\n",
       "      <td>...</td>\n",
       "      <td>NaN</td>\n",
       "      <td>NaN</td>\n",
       "      <td>NaN</td>\n",
       "      <td>NaN</td>\n",
       "      <td>NaN</td>\n",
       "      <td>NaN</td>\n",
       "      <td>remission</td>\n",
       "      <td>sparc-genotyping</td>\n",
       "      <td>203990560001_R09C02</td>\n",
       "      <td>blood</td>\n",
       "    </tr>\n",
       "    <tr>\n",
       "      <th>7</th>\n",
       "      <td>9014432</td>\n",
       "      <td>Blood DNA Genotyping Data Generation</td>\n",
       "      <td>30-APR-2020</td>\n",
       "      <td>IBD</td>\n",
       "      <td>Generation of global screening array and whole...</td>\n",
       "      <td>Hurtado-Lorenzo</td>\n",
       "      <td>Andres</td>\n",
       "      <td>ahurtadolorenzo@crohnscolitisfoundation.org</td>\n",
       "      <td>Crohn's and Colitis Foundation</td>\n",
       "      <td>Blood DNA Genotyping Data Generation</td>\n",
       "      <td>...</td>\n",
       "      <td>NaN</td>\n",
       "      <td>NaN</td>\n",
       "      <td>NaN</td>\n",
       "      <td>NaN</td>\n",
       "      <td>NaN</td>\n",
       "      <td>NaN</td>\n",
       "      <td>remission</td>\n",
       "      <td>sparc-genotyping</td>\n",
       "      <td>1203012009</td>\n",
       "      <td>blood</td>\n",
       "    </tr>\n",
       "    <tr>\n",
       "      <th>10</th>\n",
       "      <td>9014433</td>\n",
       "      <td>Blood DNA Genotyping Data Generation</td>\n",
       "      <td>30-APR-2020</td>\n",
       "      <td>IBD</td>\n",
       "      <td>Generation of global screening array and whole...</td>\n",
       "      <td>Hurtado-Lorenzo</td>\n",
       "      <td>Andres</td>\n",
       "      <td>ahurtadolorenzo@crohnscolitisfoundation.org</td>\n",
       "      <td>Crohn's and Colitis Foundation</td>\n",
       "      <td>Blood DNA Genotyping Data Generation</td>\n",
       "      <td>...</td>\n",
       "      <td>NaN</td>\n",
       "      <td>NaN</td>\n",
       "      <td>NaN</td>\n",
       "      <td>NaN</td>\n",
       "      <td>NaN</td>\n",
       "      <td>NaN</td>\n",
       "      <td>remission</td>\n",
       "      <td>sparc-genotyping</td>\n",
       "      <td>203990560048_R09C02</td>\n",
       "      <td>blood</td>\n",
       "    </tr>\n",
       "    <tr>\n",
       "      <th>11</th>\n",
       "      <td>9014433</td>\n",
       "      <td>Blood DNA Genotyping Data Generation</td>\n",
       "      <td>30-APR-2020</td>\n",
       "      <td>IBD</td>\n",
       "      <td>Generation of global screening array and whole...</td>\n",
       "      <td>Hurtado-Lorenzo</td>\n",
       "      <td>Andres</td>\n",
       "      <td>ahurtadolorenzo@crohnscolitisfoundation.org</td>\n",
       "      <td>Crohn's and Colitis Foundation</td>\n",
       "      <td>Blood DNA Genotyping Data Generation</td>\n",
       "      <td>...</td>\n",
       "      <td>NaN</td>\n",
       "      <td>NaN</td>\n",
       "      <td>NaN</td>\n",
       "      <td>NaN</td>\n",
       "      <td>NaN</td>\n",
       "      <td>NaN</td>\n",
       "      <td>remission</td>\n",
       "      <td>sparc-genotyping</td>\n",
       "      <td>1203012010</td>\n",
       "      <td>blood</td>\n",
       "    </tr>\n",
       "    <tr>\n",
       "      <th>12</th>\n",
       "      <td>9014434</td>\n",
       "      <td>Blood DNA Genotyping Data Generation</td>\n",
       "      <td>30-APR-2020</td>\n",
       "      <td>IBD</td>\n",
       "      <td>Generation of global screening array and whole...</td>\n",
       "      <td>Hurtado-Lorenzo</td>\n",
       "      <td>Andres</td>\n",
       "      <td>ahurtadolorenzo@crohnscolitisfoundation.org</td>\n",
       "      <td>Crohn's and Colitis Foundation</td>\n",
       "      <td>Blood DNA Genotyping Data Generation</td>\n",
       "      <td>...</td>\n",
       "      <td>NaN</td>\n",
       "      <td>NaN</td>\n",
       "      <td>NaN</td>\n",
       "      <td>NaN</td>\n",
       "      <td>NaN</td>\n",
       "      <td>NaN</td>\n",
       "      <td>remission</td>\n",
       "      <td>sparc-genotyping</td>\n",
       "      <td>204127370065_R10C01</td>\n",
       "      <td>blood</td>\n",
       "    </tr>\n",
       "    <tr>\n",
       "      <th>13</th>\n",
       "      <td>9014434</td>\n",
       "      <td>Blood DNA Genotyping Data Generation</td>\n",
       "      <td>30-APR-2020</td>\n",
       "      <td>IBD</td>\n",
       "      <td>Generation of global screening array and whole...</td>\n",
       "      <td>Hurtado-Lorenzo</td>\n",
       "      <td>Andres</td>\n",
       "      <td>ahurtadolorenzo@crohnscolitisfoundation.org</td>\n",
       "      <td>Crohn's and Colitis Foundation</td>\n",
       "      <td>Blood DNA Genotyping Data Generation</td>\n",
       "      <td>...</td>\n",
       "      <td>NaN</td>\n",
       "      <td>NaN</td>\n",
       "      <td>NaN</td>\n",
       "      <td>NaN</td>\n",
       "      <td>NaN</td>\n",
       "      <td>NaN</td>\n",
       "      <td>remission</td>\n",
       "      <td>sparc-genotyping</td>\n",
       "      <td>1203012012</td>\n",
       "      <td>blood</td>\n",
       "    </tr>\n",
       "  </tbody>\n",
       "</table>\n",
       "<p>10 rows × 143 columns</p>\n",
       "</div>"
      ],
      "text/plain": [
       "    patient_id                   investigation_title  \\\n",
       "0      9014430  Blood DNA Genotyping Data Generation   \n",
       "2      9014430  Blood DNA Genotyping Data Generation   \n",
       "3      9014431  Blood DNA Genotyping Data Generation   \n",
       "5      9014431  Blood DNA Genotyping Data Generation   \n",
       "6      9014432  Blood DNA Genotyping Data Generation   \n",
       "7      9014432  Blood DNA Genotyping Data Generation   \n",
       "10     9014433  Blood DNA Genotyping Data Generation   \n",
       "11     9014433  Blood DNA Genotyping Data Generation   \n",
       "12     9014434  Blood DNA Genotyping Data Generation   \n",
       "13     9014434  Blood DNA Genotyping Data Generation   \n",
       "\n",
       "   ibd_plexus_data_release_date investigation_disease  \\\n",
       "0                   30-APR-2020                   IBD   \n",
       "2                   30-APR-2020                   IBD   \n",
       "3                   30-APR-2020                   IBD   \n",
       "5                   30-APR-2020                   IBD   \n",
       "6                   30-APR-2020                   IBD   \n",
       "7                   30-APR-2020                   IBD   \n",
       "10                  30-APR-2020                   IBD   \n",
       "11                  30-APR-2020                   IBD   \n",
       "12                  30-APR-2020                   IBD   \n",
       "13                  30-APR-2020                   IBD   \n",
       "\n",
       "                            investigation_description  \\\n",
       "0   Generation of global screening array and whole...   \n",
       "2   Generation of global screening array and whole...   \n",
       "3   Generation of global screening array and whole...   \n",
       "5   Generation of global screening array and whole...   \n",
       "6   Generation of global screening array and whole...   \n",
       "7   Generation of global screening array and whole...   \n",
       "10  Generation of global screening array and whole...   \n",
       "11  Generation of global screening array and whole...   \n",
       "12  Generation of global screening array and whole...   \n",
       "13  Generation of global screening array and whole...   \n",
       "\n",
       "   investigation_cont_last_name investigation_cont_first_name  \\\n",
       "0               Hurtado-Lorenzo                        Andres   \n",
       "2               Hurtado-Lorenzo                        Andres   \n",
       "3               Hurtado-Lorenzo                        Andres   \n",
       "5               Hurtado-Lorenzo                        Andres   \n",
       "6               Hurtado-Lorenzo                        Andres   \n",
       "7               Hurtado-Lorenzo                        Andres   \n",
       "10              Hurtado-Lorenzo                        Andres   \n",
       "11              Hurtado-Lorenzo                        Andres   \n",
       "12              Hurtado-Lorenzo                        Andres   \n",
       "13              Hurtado-Lorenzo                        Andres   \n",
       "\n",
       "                       investigation_cont_email  \\\n",
       "0   ahurtadolorenzo@crohnscolitisfoundation.org   \n",
       "2   ahurtadolorenzo@crohnscolitisfoundation.org   \n",
       "3   ahurtadolorenzo@crohnscolitisfoundation.org   \n",
       "5   ahurtadolorenzo@crohnscolitisfoundation.org   \n",
       "6   ahurtadolorenzo@crohnscolitisfoundation.org   \n",
       "7   ahurtadolorenzo@crohnscolitisfoundation.org   \n",
       "10  ahurtadolorenzo@crohnscolitisfoundation.org   \n",
       "11  ahurtadolorenzo@crohnscolitisfoundation.org   \n",
       "12  ahurtadolorenzo@crohnscolitisfoundation.org   \n",
       "13  ahurtadolorenzo@crohnscolitisfoundation.org   \n",
       "\n",
       "       investigation_cont_inst/org                           study_title  ...  \\\n",
       "0   Crohn's and Colitis Foundation  Blood DNA Genotyping Data Generation  ...   \n",
       "2   Crohn's and Colitis Foundation  Blood DNA Genotyping Data Generation  ...   \n",
       "3   Crohn's and Colitis Foundation  Blood DNA Genotyping Data Generation  ...   \n",
       "5   Crohn's and Colitis Foundation  Blood DNA Genotyping Data Generation  ...   \n",
       "6   Crohn's and Colitis Foundation  Blood DNA Genotyping Data Generation  ...   \n",
       "7   Crohn's and Colitis Foundation  Blood DNA Genotyping Data Generation  ...   \n",
       "10  Crohn's and Colitis Foundation  Blood DNA Genotyping Data Generation  ...   \n",
       "11  Crohn's and Colitis Foundation  Blood DNA Genotyping Data Generation  ...   \n",
       "12  Crohn's and Colitis Foundation  Blood DNA Genotyping Data Generation  ...   \n",
       "13  Crohn's and Colitis Foundation  Blood DNA Genotyping Data Generation  ...   \n",
       "\n",
       "   sigmoid_colon right_colon descending_colon transverse_colon  endoscopy_60  \\\n",
       "0            NaN         NaN              NaN              NaN           NaN   \n",
       "2            NaN         NaN              NaN              NaN           NaN   \n",
       "3            NaN         NaN              NaN              NaN           NaN   \n",
       "5            NaN         NaN              NaN              NaN           NaN   \n",
       "6            NaN         NaN              NaN              NaN           NaN   \n",
       "7            NaN         NaN              NaN              NaN           NaN   \n",
       "10           NaN         NaN              NaN              NaN           NaN   \n",
       "11           NaN         NaN              NaN              NaN           NaN   \n",
       "12           NaN         NaN              NaN              NaN           NaN   \n",
       "13           NaN         NaN              NaN              NaN           NaN   \n",
       "\n",
       "                ostomy  disease_activity_60             batch  \\\n",
       "0   No Previous Ostomy                  NaN  sparc-genotyping   \n",
       "2   No Previous Ostomy                  NaN  sparc-genotyping   \n",
       "3                  NaN             moderate  sparc-genotyping   \n",
       "5                  NaN             moderate  sparc-genotyping   \n",
       "6                  NaN            remission  sparc-genotyping   \n",
       "7                  NaN            remission  sparc-genotyping   \n",
       "10                 NaN            remission  sparc-genotyping   \n",
       "11                 NaN            remission  sparc-genotyping   \n",
       "12                 NaN            remission  sparc-genotyping   \n",
       "13                 NaN            remission  sparc-genotyping   \n",
       "\n",
       "              sample_id simple_tissue  \n",
       "0            1203012005         blood  \n",
       "2   203990560025_R01C01         blood  \n",
       "3   203990550092_R09C02         blood  \n",
       "5            1203012008         blood  \n",
       "6   203990560001_R09C02         blood  \n",
       "7            1203012009         blood  \n",
       "10  203990560048_R09C02         blood  \n",
       "11           1203012010         blood  \n",
       "12  204127370065_R10C01         blood  \n",
       "13           1203012012         blood  \n",
       "\n",
       "[10 rows x 143 columns]"
      ]
     },
     "execution_count": 33,
     "metadata": {},
     "output_type": "execute_result"
    }
   ],
   "source": [
    "metadata_table.head(10)"
   ]
  },
  {
   "cell_type": "code",
   "execution_count": 34,
   "metadata": {},
   "outputs": [
    {
     "data": {
      "text/plain": [
       "sample_id\n",
       "1203012005             1\n",
       "FR20592753             1\n",
       "FS04286885             1\n",
       "FS04286887             1\n",
       "FR20588078             1\n",
       "                      ..\n",
       "1203012919             1\n",
       "8051395421             1\n",
       "8051395446             1\n",
       "203990560031_R05C01    1\n",
       "205097370093_R07C01    1\n",
       "Name: count, Length: 11270, dtype: int64"
      ]
     },
     "execution_count": 34,
     "metadata": {},
     "output_type": "execute_result"
    }
   ],
   "source": [
    "metadata_table.sample_id.value_counts()"
   ]
  },
  {
   "cell_type": "markdown",
   "metadata": {},
   "source": [
    "Write the output table."
   ]
  },
  {
   "cell_type": "code",
   "execution_count": 33,
   "metadata": {},
   "outputs": [],
   "source": [
    "metadata_table.to_parquet(\"processed_metadata.parquet\")"
   ]
  }
 ],
 "metadata": {
  "kernelspec": {
   "display_name": ".venv",
   "language": "python",
   "name": "python3"
  },
  "language_info": {
   "codemirror_mode": {
    "name": "ipython",
    "version": 3
   },
   "file_extension": ".py",
   "mimetype": "text/x-python",
   "name": "python",
   "nbconvert_exporter": "python",
   "pygments_lexer": "ipython3",
   "version": "3.9.16"
  },
  "orig_nbformat": 4
 },
 "nbformat": 4,
 "nbformat_minor": 2
}
